{
 "cells": [
  {
   "cell_type": "code",
   "execution_count": 1,
   "metadata": {},
   "outputs": [],
   "source": [
    "import pandas as pd"
   ]
  },
  {
   "cell_type": "code",
   "execution_count": 10,
   "metadata": {},
   "outputs": [],
   "source": [
    "fire = pd.read_csv('master_fire_incidents_location.csv')"
   ]
  },
  {
   "cell_type": "code",
   "execution_count": 11,
   "metadata": {},
   "outputs": [
    {
     "data": {
      "text/html": [
       "<div>\n",
       "<style scoped>\n",
       "    .dataframe tbody tr th:only-of-type {\n",
       "        vertical-align: middle;\n",
       "    }\n",
       "\n",
       "    .dataframe tbody tr th {\n",
       "        vertical-align: top;\n",
       "    }\n",
       "\n",
       "    .dataframe thead th {\n",
       "        text-align: right;\n",
       "    }\n",
       "</style>\n",
       "<table border=\"1\" class=\"dataframe\">\n",
       "  <thead>\n",
       "    <tr style=\"text-align: right;\">\n",
       "      <th></th>\n",
       "      <th>ID</th>\n",
       "      <th>ORIGINAL_ADDRESS</th>\n",
       "      <th>MATCH</th>\n",
       "      <th>MATCH_TYPE</th>\n",
       "      <th>MATCHED_ADDRESS</th>\n",
       "      <th>X</th>\n",
       "      <th>Y</th>\n",
       "      <th>TIGER_LINE_ID</th>\n",
       "      <th>TIGER_LINE_SIDE</th>\n",
       "    </tr>\n",
       "  </thead>\n",
       "  <tbody>\n",
       "    <tr>\n",
       "      <th>0</th>\n",
       "      <td>rcp2_id1868</td>\n",
       "      <td>300 Navaho ST, Enterprise, AL, 36331</td>\n",
       "      <td>No_Match</td>\n",
       "      <td>NaN</td>\n",
       "      <td>NaN</td>\n",
       "      <td>NaN</td>\n",
       "      <td>NaN</td>\n",
       "      <td>NaN</td>\n",
       "      <td>NaN</td>\n",
       "    </tr>\n",
       "    <tr>\n",
       "      <th>1</th>\n",
       "      <td>rcp2_id9390</td>\n",
       "      <td>253 BALD ROCK RD, BERRY_CRK, CA, 95934</td>\n",
       "      <td>No_Match</td>\n",
       "      <td>NaN</td>\n",
       "      <td>NaN</td>\n",
       "      <td>NaN</td>\n",
       "      <td>NaN</td>\n",
       "      <td>NaN</td>\n",
       "      <td>NaN</td>\n",
       "    </tr>\n",
       "    <tr>\n",
       "      <th>2</th>\n",
       "      <td>rcp2_id1869</td>\n",
       "      <td>105 Yellowleaf DR, Enterprise, AL, 36331</td>\n",
       "      <td>Match</td>\n",
       "      <td>Non_Exact</td>\n",
       "      <td>105 YELLOWLEAF DR, ENTERPRISE, AL, 36330</td>\n",
       "      <td>-85.807050</td>\n",
       "      <td>31.328058</td>\n",
       "      <td>99550660.0</td>\n",
       "      <td>L</td>\n",
       "    </tr>\n",
       "    <tr>\n",
       "      <th>3</th>\n",
       "      <td>rcp2_id9391</td>\n",
       "      <td>464 SHELDON AVE, GRDLY, CA, 95956</td>\n",
       "      <td>Match</td>\n",
       "      <td>Non_Exact</td>\n",
       "      <td>464 SHELDON AVE, GRIDLEY, CA, 95948</td>\n",
       "      <td>-121.666460</td>\n",
       "      <td>39.350815</td>\n",
       "      <td>636052867.0</td>\n",
       "      <td>R</td>\n",
       "    </tr>\n",
       "    <tr>\n",
       "      <th>4</th>\n",
       "      <td>rcp2_id9392</td>\n",
       "      <td>11336 YANKEE HILL RD, CONCOW, CA, 95965</td>\n",
       "      <td>Match</td>\n",
       "      <td>Non_Exact</td>\n",
       "      <td>11336 YANKEE HILL RD, YANKEE HILL, CA, 95965</td>\n",
       "      <td>-121.520836</td>\n",
       "      <td>39.712353</td>\n",
       "      <td>68417518.0</td>\n",
       "      <td>R</td>\n",
       "    </tr>\n",
       "  </tbody>\n",
       "</table>\n",
       "</div>"
      ],
      "text/plain": [
       "            ID                          ORIGINAL_ADDRESS     MATCH MATCH_TYPE  \\\n",
       "0  rcp2_id1868      300 Navaho ST, Enterprise, AL, 36331  No_Match        NaN   \n",
       "1  rcp2_id9390    253 BALD ROCK RD, BERRY_CRK, CA, 95934  No_Match        NaN   \n",
       "2  rcp2_id1869  105 Yellowleaf DR, Enterprise, AL, 36331     Match  Non_Exact   \n",
       "3  rcp2_id9391         464 SHELDON AVE, GRDLY, CA, 95956     Match  Non_Exact   \n",
       "4  rcp2_id9392   11336 YANKEE HILL RD, CONCOW, CA, 95965     Match  Non_Exact   \n",
       "\n",
       "                                MATCHED_ADDRESS           X          Y  \\\n",
       "0                                           NaN         NaN        NaN   \n",
       "1                                           NaN         NaN        NaN   \n",
       "2      105 YELLOWLEAF DR, ENTERPRISE, AL, 36330  -85.807050  31.328058   \n",
       "3           464 SHELDON AVE, GRIDLEY, CA, 95948 -121.666460  39.350815   \n",
       "4  11336 YANKEE HILL RD, YANKEE HILL, CA, 95965 -121.520836  39.712353   \n",
       "\n",
       "   TIGER_LINE_ID TIGER_LINE_SIDE  \n",
       "0            NaN             NaN  \n",
       "1            NaN             NaN  \n",
       "2     99550660.0               L  \n",
       "3    636052867.0               R  \n",
       "4     68417518.0               R  "
      ]
     },
     "execution_count": 11,
     "metadata": {},
     "output_type": "execute_result"
    }
   ],
   "source": [
    "fire.head()"
   ]
  }
 ],
 "metadata": {
  "kernelspec": {
   "display_name": "Python 3",
   "language": "python",
   "name": "python3"
  },
  "language_info": {
   "codemirror_mode": {
    "name": "ipython",
    "version": 3
   },
   "file_extension": ".py",
   "mimetype": "text/x-python",
   "name": "python",
   "nbconvert_exporter": "python",
   "pygments_lexer": "ipython3",
   "version": "3.6.5"
  }
 },
 "nbformat": 4,
 "nbformat_minor": 2
}
